{
 "cells": [
  {
   "cell_type": "markdown",
   "metadata": {},
   "source": [
    "# Cleaning The Data"
   ]
  },
  {
   "cell_type": "markdown",
   "metadata": {},
   "source": [
    "## Initial Things"
   ]
  },
  {
   "cell_type": "markdown",
   "metadata": {},
   "source": [
    "### Load Libraries"
   ]
  },
  {
   "cell_type": "code",
   "execution_count": null,
   "metadata": {
    "vscode": {
     "languageId": "r"
    }
   },
   "outputs": [],
   "source": [
    "library(tidyverse)"
   ]
  },
  {
   "cell_type": "markdown",
   "metadata": {},
   "source": [
    "you might need to run this if you don't have it"
   ]
  },
  {
   "cell_type": "code",
   "execution_count": null,
   "metadata": {
    "vscode": {
     "languageId": "r"
    }
   },
   "outputs": [],
   "source": [
    "install.packages('IRkernel')"
   ]
  },
  {
   "cell_type": "markdown",
   "metadata": {},
   "source": [
    "### Open Data"
   ]
  },
  {
   "cell_type": "code",
   "execution_count": 35,
   "metadata": {
    "vscode": {
     "languageId": "r"
    }
   },
   "outputs": [],
   "source": [
    "data <- read.csv(file = \"./data/GlobalMusicData.csv\",\n",
    "stringsAsFactors = FALSE\n",
    ")"
   ]
  },
  {
   "cell_type": "markdown",
   "metadata": {},
   "source": [
    "## Formatting"
   ]
  },
  {
   "cell_type": "markdown",
   "metadata": {},
   "source": [
    "### Change Column Names"
   ]
  },
  {
   "cell_type": "code",
   "execution_count": 11,
   "metadata": {
    "vscode": {
     "languageId": "r"
    }
   },
   "outputs": [],
   "source": [
    "columnNames  <- c(\n",
    "    \"TrackId\",\n",
    "    \"TrackName\",\n",
    "    \"TrackArtist\",\n",
    "    \"TrackPopularity\",\n",
    "    \"TrackAlbumId\",\n",
    "    \"TrackAlbumName\",\n",
    "    \"TrackAlbumReleaseDate\",\n",
    "    \"PlayListId\",\n",
    "    \"PlaylistName\",\n",
    "    \"PlaylistGenre\",\n",
    "    \"PlaylistSubGenre\",\n",
    "    \"Danceability\",\n",
    "    \"Energy\",\n",
    "    \"Key\",\n",
    "    \"Loudness\",\n",
    "    \"Mode\",\n",
    "    \"Speechiness\",\n",
    "    \"Acousticness\",\n",
    "    \"Instrumentalness\",\n",
    "    \"Liveliness\",\n",
    "    \"Valence\",\n",
    "    \"Tempo\",\n",
    "    \"Duration_ms\"\n",
    ")"
   ]
  },
  {
   "cell_type": "code",
   "execution_count": 18,
   "metadata": {
    "vscode": {
     "languageId": "r"
    }
   },
   "outputs": [
    {
     "data": {
      "text/html": [
       "<style>\n",
       ".list-inline {list-style: none; margin:0; padding: 0}\n",
       ".list-inline>li {display: inline-block}\n",
       ".list-inline>li:not(:last-child)::after {content: \"\\00b7\"; padding: 0 .5ex}\n",
       "</style>\n",
       "<ol class=list-inline><li>'TrackId'</li><li>'TrackName'</li><li>'TrackArtist'</li><li>'TrackPopularity'</li><li>'TrackAlbumId'</li><li>'TrackAlbumName'</li><li>'TrackAlbumReleaseDate'</li><li>'PlayListId'</li><li>'PlaylistName'</li><li>'PlaylistGenre'</li><li>'PlaylistSubGenre'</li><li>'Danceability'</li><li>'Energy'</li><li>'Key'</li><li>'Loudness'</li><li>'Mode'</li><li>'Speechiness'</li><li>'Acousticness'</li><li>'Instrumentalness'</li><li>'Liveliness'</li><li>'Valence'</li><li>'Tempo'</li><li>'Duration_ms'</li></ol>\n"
      ],
      "text/latex": [
       "\\begin{enumerate*}\n",
       "\\item 'TrackId'\n",
       "\\item 'TrackName'\n",
       "\\item 'TrackArtist'\n",
       "\\item 'TrackPopularity'\n",
       "\\item 'TrackAlbumId'\n",
       "\\item 'TrackAlbumName'\n",
       "\\item 'TrackAlbumReleaseDate'\n",
       "\\item 'PlayListId'\n",
       "\\item 'PlaylistName'\n",
       "\\item 'PlaylistGenre'\n",
       "\\item 'PlaylistSubGenre'\n",
       "\\item 'Danceability'\n",
       "\\item 'Energy'\n",
       "\\item 'Key'\n",
       "\\item 'Loudness'\n",
       "\\item 'Mode'\n",
       "\\item 'Speechiness'\n",
       "\\item 'Acousticness'\n",
       "\\item 'Instrumentalness'\n",
       "\\item 'Liveliness'\n",
       "\\item 'Valence'\n",
       "\\item 'Tempo'\n",
       "\\item 'Duration\\_ms'\n",
       "\\end{enumerate*}\n"
      ],
      "text/markdown": [
       "1. 'TrackId'\n",
       "2. 'TrackName'\n",
       "3. 'TrackArtist'\n",
       "4. 'TrackPopularity'\n",
       "5. 'TrackAlbumId'\n",
       "6. 'TrackAlbumName'\n",
       "7. 'TrackAlbumReleaseDate'\n",
       "8. 'PlayListId'\n",
       "9. 'PlaylistName'\n",
       "10. 'PlaylistGenre'\n",
       "11. 'PlaylistSubGenre'\n",
       "12. 'Danceability'\n",
       "13. 'Energy'\n",
       "14. 'Key'\n",
       "15. 'Loudness'\n",
       "16. 'Mode'\n",
       "17. 'Speechiness'\n",
       "18. 'Acousticness'\n",
       "19. 'Instrumentalness'\n",
       "20. 'Liveliness'\n",
       "21. 'Valence'\n",
       "22. 'Tempo'\n",
       "23. 'Duration_ms'\n",
       "\n",
       "\n"
      ],
      "text/plain": [
       " [1] \"TrackId\"               \"TrackName\"             \"TrackArtist\"          \n",
       " [4] \"TrackPopularity\"       \"TrackAlbumId\"          \"TrackAlbumName\"       \n",
       " [7] \"TrackAlbumReleaseDate\" \"PlayListId\"            \"PlaylistName\"         \n",
       "[10] \"PlaylistGenre\"         \"PlaylistSubGenre\"      \"Danceability\"         \n",
       "[13] \"Energy\"                \"Key\"                   \"Loudness\"             \n",
       "[16] \"Mode\"                  \"Speechiness\"           \"Acousticness\"         \n",
       "[19] \"Instrumentalness\"      \"Liveliness\"            \"Valence\"              \n",
       "[22] \"Tempo\"                 \"Duration_ms\"          "
      ]
     },
     "metadata": {},
     "output_type": "display_data"
    }
   ],
   "source": [
    "colnames(data) <- columnNames\n",
    "colnames(data)"
   ]
  },
  {
   "cell_type": "markdown",
   "metadata": {},
   "source": [
    "### Class Creation"
   ]
  },
  {
   "cell_type": "code",
   "execution_count": null,
   "metadata": {
    "vscode": {
     "languageId": "r"
    }
   },
   "outputs": [],
   "source": []
  },
  {
   "cell_type": "markdown",
   "metadata": {},
   "source": [
    "### Summary Stuff"
   ]
  },
  {
   "cell_type": "code",
   "execution_count": 26,
   "metadata": {
    "vscode": {
     "languageId": "r"
    }
   },
   "outputs": [
    {
     "name": "stdout",
     "output_type": "stream",
     "text": [
      "'data.frame':\t32833 obs. of  23 variables:\n",
      " $ TrackId              : chr  \"6f807x0ima9a1j3VPbc7VN\" \"0r7CVbZTWZgbTCYdfa2P31\" \"1z1Hg7Vb0AhHDiEmnDE79l\" \"75FpbthrwQmzHlBJLuGdC7\" ...\n",
      " $ TrackName            : chr  \"I Don't Care (with Justin Bieber) - Loud Luxury Remix\" \"Memories - Dillon Francis Remix\" \"All the Time - Don Diablo Remix\" \"Call You Mine - Keanu Silva Remix\" ...\n",
      " $ TrackArtist          : chr  \"Ed Sheeran\" \"Maroon 5\" \"Zara Larsson\" \"The Chainsmokers\" ...\n",
      " $ TrackPopularity      : int  66 67 70 60 69 67 62 69 68 67 ...\n",
      " $ TrackAlbumId         : chr  \"2oCs0DGTsRO98Gh5ZSl2Cx\" \"63rPSO264uRjW1X5E6cWv6\" \"1HoSmj2eLcsrR0vE9gThr4\" \"1nqYsOef1yKKuGOVchbsk6\" ...\n",
      " $ TrackAlbumName       : chr  \"I Don't Care (with Justin Bieber) [Loud Luxury Remix]\" \"Memories (Dillon Francis Remix)\" \"All the Time (Don Diablo Remix)\" \"Call You Mine - The Remixes\" ...\n",
      " $ TrackAlbumReleaseDate: chr  \"14/6/2019\" \"13/12/2019\" \"5/7/2019\" \"19/7/2019\" ...\n",
      " $ PlayListId           : chr  \"Pop Remix\" \"Pop Remix\" \"Pop Remix\" \"Pop Remix\" ...\n",
      " $ PlaylistName         : chr  \"37i9dQZF1DXcZDD7cfEKhW\" \"37i9dQZF1DXcZDD7cfEKhW\" \"37i9dQZF1DXcZDD7cfEKhW\" \"37i9dQZF1DXcZDD7cfEKhW\" ...\n",
      " $ PlaylistGenre        : chr  \"pop\" \"pop\" \"pop\" \"pop\" ...\n",
      " $ PlaylistSubGenre     : chr  \"dance pop\" \"dance pop\" \"dance pop\" \"dance pop\" ...\n",
      " $ Danceability         : num  0.748 0.726 0.675 0.718 0.65 0.675 0.449 0.542 0.594 0.642 ...\n",
      " $ Energy               : num  0.916 0.815 0.931 0.93 0.833 0.919 0.856 0.903 0.935 0.818 ...\n",
      " $ Key                  : int  6 11 1 7 1 8 5 4 8 2 ...\n",
      " $ Loudness             : num  -2.63 -4.97 -3.43 -3.78 -4.67 ...\n",
      " $ Mode                 : int  1 1 0 1 1 1 0 0 1 1 ...\n",
      " $ Speechiness          : num  0.0583 0.0373 0.0742 0.102 0.0359 0.127 0.0623 0.0434 0.0565 0.032 ...\n",
      " $ Acousticness         : num  0.102 0.0724 0.0794 0.0287 0.0803 0.0799 0.187 0.0335 0.0249 0.0567 ...\n",
      " $ Instrumentalness     : num  0.00 4.21e-03 2.33e-05 9.43e-06 0.00 0.00 0.00 4.83e-06 3.97e-06 0.00 ...\n",
      " $ Liveliness           : num  0.0653 0.357 0.11 0.204 0.0833 0.143 0.176 0.111 0.637 0.0919 ...\n",
      " $ Valence              : num  0.518 0.693 0.613 0.277 0.725 0.585 0.152 0.367 0.366 0.59 ...\n",
      " $ Tempo                : num  122 100 124 122 124 ...\n",
      " $ Duration_ms          : int  194754 162600 176616 169093 189052 163049 187675 207619 193187 253040 ...\n"
     ]
    }
   ],
   "source": [
    "str(data)"
   ]
  },
  {
   "cell_type": "code",
   "execution_count": 25,
   "metadata": {
    "vscode": {
     "languageId": "r"
    }
   },
   "outputs": [
    {
     "data": {
      "text/plain": [
       "   TrackId           TrackName         TrackArtist        TrackPopularity \n",
       " Length:32833       Length:32833       Length:32833       Min.   :  0.00  \n",
       " Class :character   Class :character   Class :character   1st Qu.: 24.00  \n",
       " Mode  :character   Mode  :character   Mode  :character   Median : 45.00  \n",
       "                                                          Mean   : 42.48  \n",
       "                                                          3rd Qu.: 62.00  \n",
       "                                                          Max.   :100.00  \n",
       " TrackAlbumId       TrackAlbumName     TrackAlbumReleaseDate  PlayListId       \n",
       " Length:32833       Length:32833       Length:32833          Length:32833      \n",
       " Class :character   Class :character   Class :character      Class :character  \n",
       " Mode  :character   Mode  :character   Mode  :character      Mode  :character  \n",
       "                                                                               \n",
       "                                                                               \n",
       "                                                                               \n",
       " PlaylistName       PlaylistGenre      PlaylistSubGenre    Danceability   \n",
       " Length:32833       Length:32833       Length:32833       Min.   :0.0000  \n",
       " Class :character   Class :character   Class :character   1st Qu.:0.5630  \n",
       " Mode  :character   Mode  :character   Mode  :character   Median :0.6720  \n",
       "                                                          Mean   :0.6548  \n",
       "                                                          3rd Qu.:0.7610  \n",
       "                                                          Max.   :0.9830  \n",
       "     Energy              Key            Loudness            Mode       \n",
       " Min.   :0.000175   Min.   : 0.000   Min.   :-46.448   Min.   :0.0000  \n",
       " 1st Qu.:0.581000   1st Qu.: 2.000   1st Qu.: -8.171   1st Qu.:0.0000  \n",
       " Median :0.721000   Median : 6.000   Median : -6.166   Median :1.0000  \n",
       " Mean   :0.698619   Mean   : 5.374   Mean   : -6.720   Mean   :0.5657  \n",
       " 3rd Qu.:0.840000   3rd Qu.: 9.000   3rd Qu.: -4.645   3rd Qu.:1.0000  \n",
       " Max.   :1.000000   Max.   :11.000   Max.   :  1.275   Max.   :1.0000  \n",
       "  Speechiness      Acousticness    Instrumentalness      Liveliness    \n",
       " Min.   :0.0000   Min.   :0.0000   Min.   :0.0000000   Min.   :0.0000  \n",
       " 1st Qu.:0.0410   1st Qu.:0.0151   1st Qu.:0.0000000   1st Qu.:0.0927  \n",
       " Median :0.0625   Median :0.0804   Median :0.0000161   Median :0.1270  \n",
       " Mean   :0.1071   Mean   :0.1753   Mean   :0.0847472   Mean   :0.1902  \n",
       " 3rd Qu.:0.1320   3rd Qu.:0.2550   3rd Qu.:0.0048300   3rd Qu.:0.2480  \n",
       " Max.   :0.9180   Max.   :0.9940   Max.   :0.9940000   Max.   :0.9960  \n",
       "    Valence           Tempo         Duration_ms    \n",
       " Min.   :0.0000   Min.   :  0.00   Min.   :  4000  \n",
       " 1st Qu.:0.3310   1st Qu.: 99.96   1st Qu.:187819  \n",
       " Median :0.5120   Median :121.98   Median :216000  \n",
       " Mean   :0.5106   Mean   :120.88   Mean   :225800  \n",
       " 3rd Qu.:0.6930   3rd Qu.:133.92   3rd Qu.:253585  \n",
       " Max.   :0.9910   Max.   :239.44   Max.   :517810  "
      ]
     },
     "metadata": {},
     "output_type": "display_data"
    }
   ],
   "source": [
    "summary(data)"
   ]
  },
  {
   "cell_type": "code",
   "execution_count": 23,
   "metadata": {
    "vscode": {
     "languageId": "r"
    }
   },
   "outputs": [
    {
     "data": {
      "text/html": [
       "<table class=\"dataframe\">\n",
       "<caption>A data.frame: 5 × 23</caption>\n",
       "<thead>\n",
       "\t<tr><th></th><th scope=col>TrackId</th><th scope=col>TrackName</th><th scope=col>TrackArtist</th><th scope=col>TrackPopularity</th><th scope=col>TrackAlbumId</th><th scope=col>TrackAlbumName</th><th scope=col>TrackAlbumReleaseDate</th><th scope=col>PlayListId</th><th scope=col>PlaylistName</th><th scope=col>PlaylistGenre</th><th scope=col>⋯</th><th scope=col>Key</th><th scope=col>Loudness</th><th scope=col>Mode</th><th scope=col>Speechiness</th><th scope=col>Acousticness</th><th scope=col>Instrumentalness</th><th scope=col>Liveliness</th><th scope=col>Valence</th><th scope=col>Tempo</th><th scope=col>Duration_ms</th></tr>\n",
       "\t<tr><th></th><th scope=col>&lt;chr&gt;</th><th scope=col>&lt;chr&gt;</th><th scope=col>&lt;chr&gt;</th><th scope=col>&lt;int&gt;</th><th scope=col>&lt;chr&gt;</th><th scope=col>&lt;chr&gt;</th><th scope=col>&lt;chr&gt;</th><th scope=col>&lt;chr&gt;</th><th scope=col>&lt;chr&gt;</th><th scope=col>&lt;chr&gt;</th><th scope=col>⋯</th><th scope=col>&lt;int&gt;</th><th scope=col>&lt;dbl&gt;</th><th scope=col>&lt;int&gt;</th><th scope=col>&lt;dbl&gt;</th><th scope=col>&lt;dbl&gt;</th><th scope=col>&lt;dbl&gt;</th><th scope=col>&lt;dbl&gt;</th><th scope=col>&lt;dbl&gt;</th><th scope=col>&lt;dbl&gt;</th><th scope=col>&lt;int&gt;</th></tr>\n",
       "</thead>\n",
       "<tbody>\n",
       "\t<tr><th scope=row>1</th><td>6f807x0ima9a1j3VPbc7VN</td><td>I Don't Care (with Justin Bieber) - Loud Luxury Remix</td><td>Ed Sheeran      </td><td>66</td><td>2oCs0DGTsRO98Gh5ZSl2Cx</td><td>I Don't Care (with Justin Bieber) [Loud Luxury Remix]</td><td>14/6/2019 </td><td>Pop Remix</td><td>37i9dQZF1DXcZDD7cfEKhW</td><td>pop</td><td>⋯</td><td> 6</td><td>-2.634</td><td>1</td><td>0.0583</td><td>0.1020</td><td>0.00e+00</td><td>0.0653</td><td>0.518</td><td>122.036</td><td>194754</td></tr>\n",
       "\t<tr><th scope=row>2</th><td>0r7CVbZTWZgbTCYdfa2P31</td><td>Memories - Dillon Francis Remix                      </td><td>Maroon 5        </td><td>67</td><td>63rPSO264uRjW1X5E6cWv6</td><td>Memories (Dillon Francis Remix)                      </td><td>13/12/2019</td><td>Pop Remix</td><td>37i9dQZF1DXcZDD7cfEKhW</td><td>pop</td><td>⋯</td><td>11</td><td>-4.969</td><td>1</td><td>0.0373</td><td>0.0724</td><td>4.21e-03</td><td>0.3570</td><td>0.693</td><td> 99.972</td><td>162600</td></tr>\n",
       "\t<tr><th scope=row>3</th><td>1z1Hg7Vb0AhHDiEmnDE79l</td><td>All the Time - Don Diablo Remix                      </td><td>Zara Larsson    </td><td>70</td><td>1HoSmj2eLcsrR0vE9gThr4</td><td>All the Time (Don Diablo Remix)                      </td><td>5/7/2019  </td><td>Pop Remix</td><td>37i9dQZF1DXcZDD7cfEKhW</td><td>pop</td><td>⋯</td><td> 1</td><td>-3.432</td><td>0</td><td>0.0742</td><td>0.0794</td><td>2.33e-05</td><td>0.1100</td><td>0.613</td><td>124.008</td><td>176616</td></tr>\n",
       "\t<tr><th scope=row>4</th><td>75FpbthrwQmzHlBJLuGdC7</td><td>Call You Mine - Keanu Silva Remix                    </td><td>The Chainsmokers</td><td>60</td><td>1nqYsOef1yKKuGOVchbsk6</td><td>Call You Mine - The Remixes                          </td><td>19/7/2019 </td><td>Pop Remix</td><td>37i9dQZF1DXcZDD7cfEKhW</td><td>pop</td><td>⋯</td><td> 7</td><td>-3.778</td><td>1</td><td>0.1020</td><td>0.0287</td><td>9.43e-06</td><td>0.2040</td><td>0.277</td><td>121.956</td><td>169093</td></tr>\n",
       "\t<tr><th scope=row>5</th><td>1e8PAfcKUYoKkxPhrHqw4x</td><td>Someone You Loved - Future Humans Remix              </td><td>Lewis Capaldi   </td><td>69</td><td>7m7vv9wlQ4i0LFuJiE2zsQ</td><td>Someone You Loved (Future Humans Remix)              </td><td>5/3/2019  </td><td>Pop Remix</td><td>37i9dQZF1DXcZDD7cfEKhW</td><td>pop</td><td>⋯</td><td> 1</td><td>-4.672</td><td>1</td><td>0.0359</td><td>0.0803</td><td>0.00e+00</td><td>0.0833</td><td>0.725</td><td>123.976</td><td>189052</td></tr>\n",
       "</tbody>\n",
       "</table>\n"
      ],
      "text/latex": [
       "A data.frame: 5 × 23\n",
       "\\begin{tabular}{r|lllllllllllllllllllll}\n",
       "  & TrackId & TrackName & TrackArtist & TrackPopularity & TrackAlbumId & TrackAlbumName & TrackAlbumReleaseDate & PlayListId & PlaylistName & PlaylistGenre & ⋯ & Key & Loudness & Mode & Speechiness & Acousticness & Instrumentalness & Liveliness & Valence & Tempo & Duration\\_ms\\\\\n",
       "  & <chr> & <chr> & <chr> & <int> & <chr> & <chr> & <chr> & <chr> & <chr> & <chr> & ⋯ & <int> & <dbl> & <int> & <dbl> & <dbl> & <dbl> & <dbl> & <dbl> & <dbl> & <int>\\\\\n",
       "\\hline\n",
       "\t1 & 6f807x0ima9a1j3VPbc7VN & I Don't Care (with Justin Bieber) - Loud Luxury Remix & Ed Sheeran       & 66 & 2oCs0DGTsRO98Gh5ZSl2Cx & I Don't Care (with Justin Bieber) {[}Loud Luxury Remix{]} & 14/6/2019  & Pop Remix & 37i9dQZF1DXcZDD7cfEKhW & pop & ⋯ &  6 & -2.634 & 1 & 0.0583 & 0.1020 & 0.00e+00 & 0.0653 & 0.518 & 122.036 & 194754\\\\\n",
       "\t2 & 0r7CVbZTWZgbTCYdfa2P31 & Memories - Dillon Francis Remix                       & Maroon 5         & 67 & 63rPSO264uRjW1X5E6cWv6 & Memories (Dillon Francis Remix)                       & 13/12/2019 & Pop Remix & 37i9dQZF1DXcZDD7cfEKhW & pop & ⋯ & 11 & -4.969 & 1 & 0.0373 & 0.0724 & 4.21e-03 & 0.3570 & 0.693 &  99.972 & 162600\\\\\n",
       "\t3 & 1z1Hg7Vb0AhHDiEmnDE79l & All the Time - Don Diablo Remix                       & Zara Larsson     & 70 & 1HoSmj2eLcsrR0vE9gThr4 & All the Time (Don Diablo Remix)                       & 5/7/2019   & Pop Remix & 37i9dQZF1DXcZDD7cfEKhW & pop & ⋯ &  1 & -3.432 & 0 & 0.0742 & 0.0794 & 2.33e-05 & 0.1100 & 0.613 & 124.008 & 176616\\\\\n",
       "\t4 & 75FpbthrwQmzHlBJLuGdC7 & Call You Mine - Keanu Silva Remix                     & The Chainsmokers & 60 & 1nqYsOef1yKKuGOVchbsk6 & Call You Mine - The Remixes                           & 19/7/2019  & Pop Remix & 37i9dQZF1DXcZDD7cfEKhW & pop & ⋯ &  7 & -3.778 & 1 & 0.1020 & 0.0287 & 9.43e-06 & 0.2040 & 0.277 & 121.956 & 169093\\\\\n",
       "\t5 & 1e8PAfcKUYoKkxPhrHqw4x & Someone You Loved - Future Humans Remix               & Lewis Capaldi    & 69 & 7m7vv9wlQ4i0LFuJiE2zsQ & Someone You Loved (Future Humans Remix)               & 5/3/2019   & Pop Remix & 37i9dQZF1DXcZDD7cfEKhW & pop & ⋯ &  1 & -4.672 & 1 & 0.0359 & 0.0803 & 0.00e+00 & 0.0833 & 0.725 & 123.976 & 189052\\\\\n",
       "\\end{tabular}\n"
      ],
      "text/markdown": [
       "\n",
       "A data.frame: 5 × 23\n",
       "\n",
       "| <!--/--> | TrackId &lt;chr&gt; | TrackName &lt;chr&gt; | TrackArtist &lt;chr&gt; | TrackPopularity &lt;int&gt; | TrackAlbumId &lt;chr&gt; | TrackAlbumName &lt;chr&gt; | TrackAlbumReleaseDate &lt;chr&gt; | PlayListId &lt;chr&gt; | PlaylistName &lt;chr&gt; | PlaylistGenre &lt;chr&gt; | ⋯ ⋯ | Key &lt;int&gt; | Loudness &lt;dbl&gt; | Mode &lt;int&gt; | Speechiness &lt;dbl&gt; | Acousticness &lt;dbl&gt; | Instrumentalness &lt;dbl&gt; | Liveliness &lt;dbl&gt; | Valence &lt;dbl&gt; | Tempo &lt;dbl&gt; | Duration_ms &lt;int&gt; |\n",
       "|---|---|---|---|---|---|---|---|---|---|---|---|---|---|---|---|---|---|---|---|---|---|\n",
       "| 1 | 6f807x0ima9a1j3VPbc7VN | I Don't Care (with Justin Bieber) - Loud Luxury Remix | Ed Sheeran       | 66 | 2oCs0DGTsRO98Gh5ZSl2Cx | I Don't Care (with Justin Bieber) [Loud Luxury Remix] | 14/6/2019  | Pop Remix | 37i9dQZF1DXcZDD7cfEKhW | pop | ⋯ |  6 | -2.634 | 1 | 0.0583 | 0.1020 | 0.00e+00 | 0.0653 | 0.518 | 122.036 | 194754 |\n",
       "| 2 | 0r7CVbZTWZgbTCYdfa2P31 | Memories - Dillon Francis Remix                       | Maroon 5         | 67 | 63rPSO264uRjW1X5E6cWv6 | Memories (Dillon Francis Remix)                       | 13/12/2019 | Pop Remix | 37i9dQZF1DXcZDD7cfEKhW | pop | ⋯ | 11 | -4.969 | 1 | 0.0373 | 0.0724 | 4.21e-03 | 0.3570 | 0.693 |  99.972 | 162600 |\n",
       "| 3 | 1z1Hg7Vb0AhHDiEmnDE79l | All the Time - Don Diablo Remix                       | Zara Larsson     | 70 | 1HoSmj2eLcsrR0vE9gThr4 | All the Time (Don Diablo Remix)                       | 5/7/2019   | Pop Remix | 37i9dQZF1DXcZDD7cfEKhW | pop | ⋯ |  1 | -3.432 | 0 | 0.0742 | 0.0794 | 2.33e-05 | 0.1100 | 0.613 | 124.008 | 176616 |\n",
       "| 4 | 75FpbthrwQmzHlBJLuGdC7 | Call You Mine - Keanu Silva Remix                     | The Chainsmokers | 60 | 1nqYsOef1yKKuGOVchbsk6 | Call You Mine - The Remixes                           | 19/7/2019  | Pop Remix | 37i9dQZF1DXcZDD7cfEKhW | pop | ⋯ |  7 | -3.778 | 1 | 0.1020 | 0.0287 | 9.43e-06 | 0.2040 | 0.277 | 121.956 | 169093 |\n",
       "| 5 | 1e8PAfcKUYoKkxPhrHqw4x | Someone You Loved - Future Humans Remix               | Lewis Capaldi    | 69 | 7m7vv9wlQ4i0LFuJiE2zsQ | Someone You Loved (Future Humans Remix)               | 5/3/2019   | Pop Remix | 37i9dQZF1DXcZDD7cfEKhW | pop | ⋯ |  1 | -4.672 | 1 | 0.0359 | 0.0803 | 0.00e+00 | 0.0833 | 0.725 | 123.976 | 189052 |\n",
       "\n"
      ],
      "text/plain": [
       "  TrackId                TrackName                                            \n",
       "1 6f807x0ima9a1j3VPbc7VN I Don't Care (with Justin Bieber) - Loud Luxury Remix\n",
       "2 0r7CVbZTWZgbTCYdfa2P31 Memories - Dillon Francis Remix                      \n",
       "3 1z1Hg7Vb0AhHDiEmnDE79l All the Time - Don Diablo Remix                      \n",
       "4 75FpbthrwQmzHlBJLuGdC7 Call You Mine - Keanu Silva Remix                    \n",
       "5 1e8PAfcKUYoKkxPhrHqw4x Someone You Loved - Future Humans Remix              \n",
       "  TrackArtist      TrackPopularity TrackAlbumId          \n",
       "1 Ed Sheeran       66              2oCs0DGTsRO98Gh5ZSl2Cx\n",
       "2 Maroon 5         67              63rPSO264uRjW1X5E6cWv6\n",
       "3 Zara Larsson     70              1HoSmj2eLcsrR0vE9gThr4\n",
       "4 The Chainsmokers 60              1nqYsOef1yKKuGOVchbsk6\n",
       "5 Lewis Capaldi    69              7m7vv9wlQ4i0LFuJiE2zsQ\n",
       "  TrackAlbumName                                        TrackAlbumReleaseDate\n",
       "1 I Don't Care (with Justin Bieber) [Loud Luxury Remix] 14/6/2019            \n",
       "2 Memories (Dillon Francis Remix)                       13/12/2019           \n",
       "3 All the Time (Don Diablo Remix)                       5/7/2019             \n",
       "4 Call You Mine - The Remixes                           19/7/2019            \n",
       "5 Someone You Loved (Future Humans Remix)               5/3/2019             \n",
       "  PlayListId PlaylistName           PlaylistGenre ⋯ Key Loudness Mode\n",
       "1 Pop Remix  37i9dQZF1DXcZDD7cfEKhW pop           ⋯  6  -2.634   1   \n",
       "2 Pop Remix  37i9dQZF1DXcZDD7cfEKhW pop           ⋯ 11  -4.969   1   \n",
       "3 Pop Remix  37i9dQZF1DXcZDD7cfEKhW pop           ⋯  1  -3.432   0   \n",
       "4 Pop Remix  37i9dQZF1DXcZDD7cfEKhW pop           ⋯  7  -3.778   1   \n",
       "5 Pop Remix  37i9dQZF1DXcZDD7cfEKhW pop           ⋯  1  -4.672   1   \n",
       "  Speechiness Acousticness Instrumentalness Liveliness Valence Tempo  \n",
       "1 0.0583      0.1020       0.00e+00         0.0653     0.518   122.036\n",
       "2 0.0373      0.0724       4.21e-03         0.3570     0.693    99.972\n",
       "3 0.0742      0.0794       2.33e-05         0.1100     0.613   124.008\n",
       "4 0.1020      0.0287       9.43e-06         0.2040     0.277   121.956\n",
       "5 0.0359      0.0803       0.00e+00         0.0833     0.725   123.976\n",
       "  Duration_ms\n",
       "1 194754     \n",
       "2 162600     \n",
       "3 176616     \n",
       "4 169093     \n",
       "5 189052     "
      ]
     },
     "metadata": {},
     "output_type": "display_data"
    }
   ],
   "source": [
    "head(data, 5)"
   ]
  },
  {
   "cell_type": "code",
   "execution_count": 24,
   "metadata": {
    "vscode": {
     "languageId": "r"
    }
   },
   "outputs": [
    {
     "data": {
      "text/html": [
       "<table class=\"dataframe\">\n",
       "<caption>A data.frame: 5 × 23</caption>\n",
       "<thead>\n",
       "\t<tr><th></th><th scope=col>TrackId</th><th scope=col>TrackName</th><th scope=col>TrackArtist</th><th scope=col>TrackPopularity</th><th scope=col>TrackAlbumId</th><th scope=col>TrackAlbumName</th><th scope=col>TrackAlbumReleaseDate</th><th scope=col>PlayListId</th><th scope=col>PlaylistName</th><th scope=col>PlaylistGenre</th><th scope=col>⋯</th><th scope=col>Key</th><th scope=col>Loudness</th><th scope=col>Mode</th><th scope=col>Speechiness</th><th scope=col>Acousticness</th><th scope=col>Instrumentalness</th><th scope=col>Liveliness</th><th scope=col>Valence</th><th scope=col>Tempo</th><th scope=col>Duration_ms</th></tr>\n",
       "\t<tr><th></th><th scope=col>&lt;chr&gt;</th><th scope=col>&lt;chr&gt;</th><th scope=col>&lt;chr&gt;</th><th scope=col>&lt;int&gt;</th><th scope=col>&lt;chr&gt;</th><th scope=col>&lt;chr&gt;</th><th scope=col>&lt;chr&gt;</th><th scope=col>&lt;chr&gt;</th><th scope=col>&lt;chr&gt;</th><th scope=col>&lt;chr&gt;</th><th scope=col>⋯</th><th scope=col>&lt;int&gt;</th><th scope=col>&lt;dbl&gt;</th><th scope=col>&lt;int&gt;</th><th scope=col>&lt;dbl&gt;</th><th scope=col>&lt;dbl&gt;</th><th scope=col>&lt;dbl&gt;</th><th scope=col>&lt;dbl&gt;</th><th scope=col>&lt;dbl&gt;</th><th scope=col>&lt;dbl&gt;</th><th scope=col>&lt;int&gt;</th></tr>\n",
       "</thead>\n",
       "<tbody>\n",
       "\t<tr><th scope=row>32829</th><td>7bxnKAamR3snQ1VGLuVfC1</td><td>City Of Lights - Official Radio Edit</td><td><span style=white-space:pre-wrap>Lush &amp; Simon  </span></td><td>42</td><td>2azRoBBWEEEYhqV6sb7JrT</td><td><span style=white-space:pre-wrap>City Of Lights (Vocal Mix)  </span></td><td>28/4/2014</td><td>♥ EDM LOVE 2020</td><td>6jI1gFr6ANFtT8MmTvA2Ux</td><td>edm</td><td>⋯</td><td>2</td><td>-1.814</td><td>1</td><td>0.0936</td><td>0.076600</td><td>0.00e+00</td><td>0.0668</td><td>0.2100</td><td>128.170</td><td>204375</td></tr>\n",
       "\t<tr><th scope=row>32830</th><td>5Aevni09Em4575077nkWHz</td><td>Closer - Sultan &amp; Ned Shepard Remix </td><td>Tegan and Sara</td><td>20</td><td>6kD6KLxj7s8eCE3ABvAyf5</td><td><span style=white-space:pre-wrap>Closer Remixed              </span></td><td>8/3/2013 </td><td>♥ EDM LOVE 2020</td><td>6jI1gFr6ANFtT8MmTvA2Ux</td><td>edm</td><td>⋯</td><td>0</td><td>-4.462</td><td>1</td><td>0.0420</td><td>0.001710</td><td>4.27e-03</td><td>0.3750</td><td>0.4000</td><td>128.041</td><td>353120</td></tr>\n",
       "\t<tr><th scope=row>32831</th><td>7ImMqPP3Q1yfUHvsdn7wEo</td><td>Sweet Surrender - Radio Edit        </td><td>Starkillers   </td><td>14</td><td>0ltWNSY9JgxoIZO4VzuCa6</td><td>Sweet Surrender (Radio Edit)</td><td>21/4/2014</td><td>♥ EDM LOVE 2020</td><td>6jI1gFr6ANFtT8MmTvA2Ux</td><td>edm</td><td>⋯</td><td>6</td><td>-4.899</td><td>0</td><td>0.0481</td><td>0.108000</td><td>1.11e-06</td><td>0.1500</td><td>0.4360</td><td>127.989</td><td>210112</td></tr>\n",
       "\t<tr><th scope=row>32832</th><td>2m69mhnfQ1Oq6lGtXuYhgX</td><td>Only For You - Maor Levi Remix      </td><td>Mat Zo        </td><td>15</td><td>1fGrOkHnHJcStl14zNx8Jy</td><td>Only For You (Remixes)      </td><td>1/1/2014 </td><td>♥ EDM LOVE 2020</td><td>6jI1gFr6ANFtT8MmTvA2Ux</td><td>edm</td><td>⋯</td><td>2</td><td>-3.361</td><td>1</td><td>0.1090</td><td>0.007920</td><td>1.27e-01</td><td>0.3430</td><td>0.3080</td><td>128.008</td><td>367432</td></tr>\n",
       "\t<tr><th scope=row>32833</th><td>29zWqhca3zt5NsckZqDf6c</td><td>Typhoon - Original Mix              </td><td>Julian Calor  </td><td>27</td><td>0X3mUOm6MhxR7PzxG95rAo</td><td>Typhoon/Storm               </td><td>3/3/2014 </td><td>♥ EDM LOVE 2020</td><td>6jI1gFr6ANFtT8MmTvA2Ux</td><td>edm</td><td>⋯</td><td>5</td><td>-4.571</td><td>0</td><td>0.0385</td><td>0.000133</td><td>3.41e-01</td><td>0.7420</td><td>0.0894</td><td>127.984</td><td>337500</td></tr>\n",
       "</tbody>\n",
       "</table>\n"
      ],
      "text/latex": [
       "A data.frame: 5 × 23\n",
       "\\begin{tabular}{r|lllllllllllllllllllll}\n",
       "  & TrackId & TrackName & TrackArtist & TrackPopularity & TrackAlbumId & TrackAlbumName & TrackAlbumReleaseDate & PlayListId & PlaylistName & PlaylistGenre & ⋯ & Key & Loudness & Mode & Speechiness & Acousticness & Instrumentalness & Liveliness & Valence & Tempo & Duration\\_ms\\\\\n",
       "  & <chr> & <chr> & <chr> & <int> & <chr> & <chr> & <chr> & <chr> & <chr> & <chr> & ⋯ & <int> & <dbl> & <int> & <dbl> & <dbl> & <dbl> & <dbl> & <dbl> & <dbl> & <int>\\\\\n",
       "\\hline\n",
       "\t32829 & 7bxnKAamR3snQ1VGLuVfC1 & City Of Lights - Official Radio Edit & Lush \\& Simon   & 42 & 2azRoBBWEEEYhqV6sb7JrT & City Of Lights (Vocal Mix)   & 28/4/2014 & ♥ EDM LOVE 2020 & 6jI1gFr6ANFtT8MmTvA2Ux & edm & ⋯ & 2 & -1.814 & 1 & 0.0936 & 0.076600 & 0.00e+00 & 0.0668 & 0.2100 & 128.170 & 204375\\\\\n",
       "\t32830 & 5Aevni09Em4575077nkWHz & Closer - Sultan \\& Ned Shepard Remix  & Tegan and Sara & 20 & 6kD6KLxj7s8eCE3ABvAyf5 & Closer Remixed               & 8/3/2013  & ♥ EDM LOVE 2020 & 6jI1gFr6ANFtT8MmTvA2Ux & edm & ⋯ & 0 & -4.462 & 1 & 0.0420 & 0.001710 & 4.27e-03 & 0.3750 & 0.4000 & 128.041 & 353120\\\\\n",
       "\t32831 & 7ImMqPP3Q1yfUHvsdn7wEo & Sweet Surrender - Radio Edit         & Starkillers    & 14 & 0ltWNSY9JgxoIZO4VzuCa6 & Sweet Surrender (Radio Edit) & 21/4/2014 & ♥ EDM LOVE 2020 & 6jI1gFr6ANFtT8MmTvA2Ux & edm & ⋯ & 6 & -4.899 & 0 & 0.0481 & 0.108000 & 1.11e-06 & 0.1500 & 0.4360 & 127.989 & 210112\\\\\n",
       "\t32832 & 2m69mhnfQ1Oq6lGtXuYhgX & Only For You - Maor Levi Remix       & Mat Zo         & 15 & 1fGrOkHnHJcStl14zNx8Jy & Only For You (Remixes)       & 1/1/2014  & ♥ EDM LOVE 2020 & 6jI1gFr6ANFtT8MmTvA2Ux & edm & ⋯ & 2 & -3.361 & 1 & 0.1090 & 0.007920 & 1.27e-01 & 0.3430 & 0.3080 & 128.008 & 367432\\\\\n",
       "\t32833 & 29zWqhca3zt5NsckZqDf6c & Typhoon - Original Mix               & Julian Calor   & 27 & 0X3mUOm6MhxR7PzxG95rAo & Typhoon/Storm                & 3/3/2014  & ♥ EDM LOVE 2020 & 6jI1gFr6ANFtT8MmTvA2Ux & edm & ⋯ & 5 & -4.571 & 0 & 0.0385 & 0.000133 & 3.41e-01 & 0.7420 & 0.0894 & 127.984 & 337500\\\\\n",
       "\\end{tabular}\n"
      ],
      "text/markdown": [
       "\n",
       "A data.frame: 5 × 23\n",
       "\n",
       "| <!--/--> | TrackId &lt;chr&gt; | TrackName &lt;chr&gt; | TrackArtist &lt;chr&gt; | TrackPopularity &lt;int&gt; | TrackAlbumId &lt;chr&gt; | TrackAlbumName &lt;chr&gt; | TrackAlbumReleaseDate &lt;chr&gt; | PlayListId &lt;chr&gt; | PlaylistName &lt;chr&gt; | PlaylistGenre &lt;chr&gt; | ⋯ ⋯ | Key &lt;int&gt; | Loudness &lt;dbl&gt; | Mode &lt;int&gt; | Speechiness &lt;dbl&gt; | Acousticness &lt;dbl&gt; | Instrumentalness &lt;dbl&gt; | Liveliness &lt;dbl&gt; | Valence &lt;dbl&gt; | Tempo &lt;dbl&gt; | Duration_ms &lt;int&gt; |\n",
       "|---|---|---|---|---|---|---|---|---|---|---|---|---|---|---|---|---|---|---|---|---|---|\n",
       "| 32829 | 7bxnKAamR3snQ1VGLuVfC1 | City Of Lights - Official Radio Edit | Lush &amp; Simon   | 42 | 2azRoBBWEEEYhqV6sb7JrT | City Of Lights (Vocal Mix)   | 28/4/2014 | ♥ EDM LOVE 2020 | 6jI1gFr6ANFtT8MmTvA2Ux | edm | ⋯ | 2 | -1.814 | 1 | 0.0936 | 0.076600 | 0.00e+00 | 0.0668 | 0.2100 | 128.170 | 204375 |\n",
       "| 32830 | 5Aevni09Em4575077nkWHz | Closer - Sultan &amp; Ned Shepard Remix  | Tegan and Sara | 20 | 6kD6KLxj7s8eCE3ABvAyf5 | Closer Remixed               | 8/3/2013  | ♥ EDM LOVE 2020 | 6jI1gFr6ANFtT8MmTvA2Ux | edm | ⋯ | 0 | -4.462 | 1 | 0.0420 | 0.001710 | 4.27e-03 | 0.3750 | 0.4000 | 128.041 | 353120 |\n",
       "| 32831 | 7ImMqPP3Q1yfUHvsdn7wEo | Sweet Surrender - Radio Edit         | Starkillers    | 14 | 0ltWNSY9JgxoIZO4VzuCa6 | Sweet Surrender (Radio Edit) | 21/4/2014 | ♥ EDM LOVE 2020 | 6jI1gFr6ANFtT8MmTvA2Ux | edm | ⋯ | 6 | -4.899 | 0 | 0.0481 | 0.108000 | 1.11e-06 | 0.1500 | 0.4360 | 127.989 | 210112 |\n",
       "| 32832 | 2m69mhnfQ1Oq6lGtXuYhgX | Only For You - Maor Levi Remix       | Mat Zo         | 15 | 1fGrOkHnHJcStl14zNx8Jy | Only For You (Remixes)       | 1/1/2014  | ♥ EDM LOVE 2020 | 6jI1gFr6ANFtT8MmTvA2Ux | edm | ⋯ | 2 | -3.361 | 1 | 0.1090 | 0.007920 | 1.27e-01 | 0.3430 | 0.3080 | 128.008 | 367432 |\n",
       "| 32833 | 29zWqhca3zt5NsckZqDf6c | Typhoon - Original Mix               | Julian Calor   | 27 | 0X3mUOm6MhxR7PzxG95rAo | Typhoon/Storm                | 3/3/2014  | ♥ EDM LOVE 2020 | 6jI1gFr6ANFtT8MmTvA2Ux | edm | ⋯ | 5 | -4.571 | 0 | 0.0385 | 0.000133 | 3.41e-01 | 0.7420 | 0.0894 | 127.984 | 337500 |\n",
       "\n"
      ],
      "text/plain": [
       "      TrackId                TrackName                           \n",
       "32829 7bxnKAamR3snQ1VGLuVfC1 City Of Lights - Official Radio Edit\n",
       "32830 5Aevni09Em4575077nkWHz Closer - Sultan & Ned Shepard Remix \n",
       "32831 7ImMqPP3Q1yfUHvsdn7wEo Sweet Surrender - Radio Edit        \n",
       "32832 2m69mhnfQ1Oq6lGtXuYhgX Only For You - Maor Levi Remix      \n",
       "32833 29zWqhca3zt5NsckZqDf6c Typhoon - Original Mix              \n",
       "      TrackArtist    TrackPopularity TrackAlbumId          \n",
       "32829 Lush & Simon   42              2azRoBBWEEEYhqV6sb7JrT\n",
       "32830 Tegan and Sara 20              6kD6KLxj7s8eCE3ABvAyf5\n",
       "32831 Starkillers    14              0ltWNSY9JgxoIZO4VzuCa6\n",
       "32832 Mat Zo         15              1fGrOkHnHJcStl14zNx8Jy\n",
       "32833 Julian Calor   27              0X3mUOm6MhxR7PzxG95rAo\n",
       "      TrackAlbumName               TrackAlbumReleaseDate PlayListId     \n",
       "32829 City Of Lights (Vocal Mix)   28/4/2014             ♥ EDM LOVE 2020\n",
       "32830 Closer Remixed               8/3/2013              ♥ EDM LOVE 2020\n",
       "32831 Sweet Surrender (Radio Edit) 21/4/2014             ♥ EDM LOVE 2020\n",
       "32832 Only For You (Remixes)       1/1/2014              ♥ EDM LOVE 2020\n",
       "32833 Typhoon/Storm                3/3/2014              ♥ EDM LOVE 2020\n",
       "      PlaylistName           PlaylistGenre ⋯ Key Loudness Mode Speechiness\n",
       "32829 6jI1gFr6ANFtT8MmTvA2Ux edm           ⋯ 2   -1.814   1    0.0936     \n",
       "32830 6jI1gFr6ANFtT8MmTvA2Ux edm           ⋯ 0   -4.462   1    0.0420     \n",
       "32831 6jI1gFr6ANFtT8MmTvA2Ux edm           ⋯ 6   -4.899   0    0.0481     \n",
       "32832 6jI1gFr6ANFtT8MmTvA2Ux edm           ⋯ 2   -3.361   1    0.1090     \n",
       "32833 6jI1gFr6ANFtT8MmTvA2Ux edm           ⋯ 5   -4.571   0    0.0385     \n",
       "      Acousticness Instrumentalness Liveliness Valence Tempo   Duration_ms\n",
       "32829 0.076600     0.00e+00         0.0668     0.2100  128.170 204375     \n",
       "32830 0.001710     4.27e-03         0.3750     0.4000  128.041 353120     \n",
       "32831 0.108000     1.11e-06         0.1500     0.4360  127.989 210112     \n",
       "32832 0.007920     1.27e-01         0.3430     0.3080  128.008 367432     \n",
       "32833 0.000133     3.41e-01         0.7420     0.0894  127.984 337500     "
      ]
     },
     "metadata": {},
     "output_type": "display_data"
    }
   ],
   "source": [
    "tail(data, 5)"
   ]
  },
  {
   "cell_type": "markdown",
   "metadata": {},
   "source": [
    "### Find Errors"
   ]
  },
  {
   "cell_type": "markdown",
   "metadata": {},
   "source": [
    "#### Find duplicates"
   ]
  },
  {
   "cell_type": "code",
   "execution_count": 30,
   "metadata": {
    "vscode": {
     "languageId": "r"
    }
   },
   "outputs": [
    {
     "data": {
      "text/html": [
       "<table class=\"dataframe\">\n",
       "<caption>A data.frame: 6 × 0</caption>\n",
       "<tbody>\n",
       "\t<tr><th scope=row>1</th></tr>\n",
       "\t<tr><th scope=row>2</th></tr>\n",
       "\t<tr><th scope=row>3</th></tr>\n",
       "\t<tr><th scope=row>4</th></tr>\n",
       "\t<tr><th scope=row>5</th></tr>\n",
       "\t<tr><th scope=row>6</th></tr>\n",
       "</tbody>\n",
       "</table>\n"
      ],
      "text/latex": [
       "A data.frame: 6 × 0\n",
       "\\begin{tabular}{r|}\n",
       "\t1\\\\\n",
       "\t2\\\\\n",
       "\t3\\\\\n",
       "\t4\\\\\n",
       "\t5\\\\\n",
       "\t6\\\\\n",
       "\\end{tabular}\n"
      ],
      "text/markdown": [
       "\n",
       "A data.frame: 6 × 0\n",
       "\n",
       "| 1 |\n",
       "| 2 |\n",
       "| 3 |\n",
       "| 4 |\n",
       "| 5 |\n",
       "| 6 |\n",
       "\n"
      ],
      "text/plain": [
       " \n",
       "1\n",
       "2\n",
       "3\n",
       "4\n",
       "5\n",
       "6"
      ]
     },
     "metadata": {},
     "output_type": "display_data"
    },
    {
     "data": {
      "text/html": [
       "<table class=\"dataframe\">\n",
       "<caption>A data.frame: 6 × 23</caption>\n",
       "<thead>\n",
       "\t<tr><th></th><th scope=col>TrackId</th><th scope=col>TrackName</th><th scope=col>TrackArtist</th><th scope=col>TrackPopularity</th><th scope=col>TrackAlbumId</th><th scope=col>TrackAlbumName</th><th scope=col>TrackAlbumReleaseDate</th><th scope=col>PlayListId</th><th scope=col>PlaylistName</th><th scope=col>PlaylistGenre</th><th scope=col>⋯</th><th scope=col>Key</th><th scope=col>Loudness</th><th scope=col>Mode</th><th scope=col>Speechiness</th><th scope=col>Acousticness</th><th scope=col>Instrumentalness</th><th scope=col>Liveliness</th><th scope=col>Valence</th><th scope=col>Tempo</th><th scope=col>Duration_ms</th></tr>\n",
       "\t<tr><th></th><th scope=col>&lt;chr&gt;</th><th scope=col>&lt;chr&gt;</th><th scope=col>&lt;chr&gt;</th><th scope=col>&lt;int&gt;</th><th scope=col>&lt;chr&gt;</th><th scope=col>&lt;chr&gt;</th><th scope=col>&lt;chr&gt;</th><th scope=col>&lt;chr&gt;</th><th scope=col>&lt;chr&gt;</th><th scope=col>&lt;chr&gt;</th><th scope=col>⋯</th><th scope=col>&lt;int&gt;</th><th scope=col>&lt;dbl&gt;</th><th scope=col>&lt;int&gt;</th><th scope=col>&lt;dbl&gt;</th><th scope=col>&lt;dbl&gt;</th><th scope=col>&lt;dbl&gt;</th><th scope=col>&lt;dbl&gt;</th><th scope=col>&lt;dbl&gt;</th><th scope=col>&lt;dbl&gt;</th><th scope=col>&lt;int&gt;</th></tr>\n",
       "</thead>\n",
       "<tbody>\n",
       "\t<tr><th scope=row>1</th><td>6f807x0ima9a1j3VPbc7VN</td><td>I Don't Care (with Justin Bieber) - Loud Luxury Remix</td><td>Ed Sheeran      </td><td>66</td><td>2oCs0DGTsRO98Gh5ZSl2Cx</td><td>I Don't Care (with Justin Bieber) [Loud Luxury Remix]</td><td>14/6/2019 </td><td>Pop Remix</td><td>37i9dQZF1DXcZDD7cfEKhW</td><td>pop</td><td>⋯</td><td> 6</td><td>-2.634</td><td>1</td><td>0.0583</td><td>0.1020</td><td>0.00e+00</td><td>0.0653</td><td>0.518</td><td>122.036</td><td>194754</td></tr>\n",
       "\t<tr><th scope=row>2</th><td>0r7CVbZTWZgbTCYdfa2P31</td><td>Memories - Dillon Francis Remix                      </td><td>Maroon 5        </td><td>67</td><td>63rPSO264uRjW1X5E6cWv6</td><td>Memories (Dillon Francis Remix)                      </td><td>13/12/2019</td><td>Pop Remix</td><td>37i9dQZF1DXcZDD7cfEKhW</td><td>pop</td><td>⋯</td><td>11</td><td>-4.969</td><td>1</td><td>0.0373</td><td>0.0724</td><td>4.21e-03</td><td>0.3570</td><td>0.693</td><td> 99.972</td><td>162600</td></tr>\n",
       "\t<tr><th scope=row>3</th><td>1z1Hg7Vb0AhHDiEmnDE79l</td><td>All the Time - Don Diablo Remix                      </td><td>Zara Larsson    </td><td>70</td><td>1HoSmj2eLcsrR0vE9gThr4</td><td>All the Time (Don Diablo Remix)                      </td><td>5/7/2019  </td><td>Pop Remix</td><td>37i9dQZF1DXcZDD7cfEKhW</td><td>pop</td><td>⋯</td><td> 1</td><td>-3.432</td><td>0</td><td>0.0742</td><td>0.0794</td><td>2.33e-05</td><td>0.1100</td><td>0.613</td><td>124.008</td><td>176616</td></tr>\n",
       "\t<tr><th scope=row>4</th><td>75FpbthrwQmzHlBJLuGdC7</td><td>Call You Mine - Keanu Silva Remix                    </td><td>The Chainsmokers</td><td>60</td><td>1nqYsOef1yKKuGOVchbsk6</td><td>Call You Mine - The Remixes                          </td><td>19/7/2019 </td><td>Pop Remix</td><td>37i9dQZF1DXcZDD7cfEKhW</td><td>pop</td><td>⋯</td><td> 7</td><td>-3.778</td><td>1</td><td>0.1020</td><td>0.0287</td><td>9.43e-06</td><td>0.2040</td><td>0.277</td><td>121.956</td><td>169093</td></tr>\n",
       "\t<tr><th scope=row>5</th><td>1e8PAfcKUYoKkxPhrHqw4x</td><td>Someone You Loved - Future Humans Remix              </td><td>Lewis Capaldi   </td><td>69</td><td>7m7vv9wlQ4i0LFuJiE2zsQ</td><td>Someone You Loved (Future Humans Remix)              </td><td>5/3/2019  </td><td>Pop Remix</td><td>37i9dQZF1DXcZDD7cfEKhW</td><td>pop</td><td>⋯</td><td> 1</td><td>-4.672</td><td>1</td><td>0.0359</td><td>0.0803</td><td>0.00e+00</td><td>0.0833</td><td>0.725</td><td>123.976</td><td>189052</td></tr>\n",
       "\t<tr><th scope=row>6</th><td>7fvUMiyapMsRRxr07cU8Ef</td><td>Beautiful People (feat. Khalid) - Jack Wins Remix    </td><td>Ed Sheeran      </td><td>67</td><td>2yiy9cd2QktrNvWC2EUi0k</td><td>Beautiful People (feat. Khalid) [Jack Wins Remix]    </td><td>11/7/2019 </td><td>Pop Remix</td><td>37i9dQZF1DXcZDD7cfEKhW</td><td>pop</td><td>⋯</td><td> 8</td><td>-5.385</td><td>1</td><td>0.1270</td><td>0.0799</td><td>0.00e+00</td><td>0.1430</td><td>0.585</td><td>124.982</td><td>163049</td></tr>\n",
       "</tbody>\n",
       "</table>\n"
      ],
      "text/latex": [
       "A data.frame: 6 × 23\n",
       "\\begin{tabular}{r|lllllllllllllllllllll}\n",
       "  & TrackId & TrackName & TrackArtist & TrackPopularity & TrackAlbumId & TrackAlbumName & TrackAlbumReleaseDate & PlayListId & PlaylistName & PlaylistGenre & ⋯ & Key & Loudness & Mode & Speechiness & Acousticness & Instrumentalness & Liveliness & Valence & Tempo & Duration\\_ms\\\\\n",
       "  & <chr> & <chr> & <chr> & <int> & <chr> & <chr> & <chr> & <chr> & <chr> & <chr> & ⋯ & <int> & <dbl> & <int> & <dbl> & <dbl> & <dbl> & <dbl> & <dbl> & <dbl> & <int>\\\\\n",
       "\\hline\n",
       "\t1 & 6f807x0ima9a1j3VPbc7VN & I Don't Care (with Justin Bieber) - Loud Luxury Remix & Ed Sheeran       & 66 & 2oCs0DGTsRO98Gh5ZSl2Cx & I Don't Care (with Justin Bieber) {[}Loud Luxury Remix{]} & 14/6/2019  & Pop Remix & 37i9dQZF1DXcZDD7cfEKhW & pop & ⋯ &  6 & -2.634 & 1 & 0.0583 & 0.1020 & 0.00e+00 & 0.0653 & 0.518 & 122.036 & 194754\\\\\n",
       "\t2 & 0r7CVbZTWZgbTCYdfa2P31 & Memories - Dillon Francis Remix                       & Maroon 5         & 67 & 63rPSO264uRjW1X5E6cWv6 & Memories (Dillon Francis Remix)                       & 13/12/2019 & Pop Remix & 37i9dQZF1DXcZDD7cfEKhW & pop & ⋯ & 11 & -4.969 & 1 & 0.0373 & 0.0724 & 4.21e-03 & 0.3570 & 0.693 &  99.972 & 162600\\\\\n",
       "\t3 & 1z1Hg7Vb0AhHDiEmnDE79l & All the Time - Don Diablo Remix                       & Zara Larsson     & 70 & 1HoSmj2eLcsrR0vE9gThr4 & All the Time (Don Diablo Remix)                       & 5/7/2019   & Pop Remix & 37i9dQZF1DXcZDD7cfEKhW & pop & ⋯ &  1 & -3.432 & 0 & 0.0742 & 0.0794 & 2.33e-05 & 0.1100 & 0.613 & 124.008 & 176616\\\\\n",
       "\t4 & 75FpbthrwQmzHlBJLuGdC7 & Call You Mine - Keanu Silva Remix                     & The Chainsmokers & 60 & 1nqYsOef1yKKuGOVchbsk6 & Call You Mine - The Remixes                           & 19/7/2019  & Pop Remix & 37i9dQZF1DXcZDD7cfEKhW & pop & ⋯ &  7 & -3.778 & 1 & 0.1020 & 0.0287 & 9.43e-06 & 0.2040 & 0.277 & 121.956 & 169093\\\\\n",
       "\t5 & 1e8PAfcKUYoKkxPhrHqw4x & Someone You Loved - Future Humans Remix               & Lewis Capaldi    & 69 & 7m7vv9wlQ4i0LFuJiE2zsQ & Someone You Loved (Future Humans Remix)               & 5/3/2019   & Pop Remix & 37i9dQZF1DXcZDD7cfEKhW & pop & ⋯ &  1 & -4.672 & 1 & 0.0359 & 0.0803 & 0.00e+00 & 0.0833 & 0.725 & 123.976 & 189052\\\\\n",
       "\t6 & 7fvUMiyapMsRRxr07cU8Ef & Beautiful People (feat. Khalid) - Jack Wins Remix     & Ed Sheeran       & 67 & 2yiy9cd2QktrNvWC2EUi0k & Beautiful People (feat. Khalid) {[}Jack Wins Remix{]}     & 11/7/2019  & Pop Remix & 37i9dQZF1DXcZDD7cfEKhW & pop & ⋯ &  8 & -5.385 & 1 & 0.1270 & 0.0799 & 0.00e+00 & 0.1430 & 0.585 & 124.982 & 163049\\\\\n",
       "\\end{tabular}\n"
      ],
      "text/markdown": [
       "\n",
       "A data.frame: 6 × 23\n",
       "\n",
       "| <!--/--> | TrackId &lt;chr&gt; | TrackName &lt;chr&gt; | TrackArtist &lt;chr&gt; | TrackPopularity &lt;int&gt; | TrackAlbumId &lt;chr&gt; | TrackAlbumName &lt;chr&gt; | TrackAlbumReleaseDate &lt;chr&gt; | PlayListId &lt;chr&gt; | PlaylistName &lt;chr&gt; | PlaylistGenre &lt;chr&gt; | ⋯ ⋯ | Key &lt;int&gt; | Loudness &lt;dbl&gt; | Mode &lt;int&gt; | Speechiness &lt;dbl&gt; | Acousticness &lt;dbl&gt; | Instrumentalness &lt;dbl&gt; | Liveliness &lt;dbl&gt; | Valence &lt;dbl&gt; | Tempo &lt;dbl&gt; | Duration_ms &lt;int&gt; |\n",
       "|---|---|---|---|---|---|---|---|---|---|---|---|---|---|---|---|---|---|---|---|---|---|\n",
       "| 1 | 6f807x0ima9a1j3VPbc7VN | I Don't Care (with Justin Bieber) - Loud Luxury Remix | Ed Sheeran       | 66 | 2oCs0DGTsRO98Gh5ZSl2Cx | I Don't Care (with Justin Bieber) [Loud Luxury Remix] | 14/6/2019  | Pop Remix | 37i9dQZF1DXcZDD7cfEKhW | pop | ⋯ |  6 | -2.634 | 1 | 0.0583 | 0.1020 | 0.00e+00 | 0.0653 | 0.518 | 122.036 | 194754 |\n",
       "| 2 | 0r7CVbZTWZgbTCYdfa2P31 | Memories - Dillon Francis Remix                       | Maroon 5         | 67 | 63rPSO264uRjW1X5E6cWv6 | Memories (Dillon Francis Remix)                       | 13/12/2019 | Pop Remix | 37i9dQZF1DXcZDD7cfEKhW | pop | ⋯ | 11 | -4.969 | 1 | 0.0373 | 0.0724 | 4.21e-03 | 0.3570 | 0.693 |  99.972 | 162600 |\n",
       "| 3 | 1z1Hg7Vb0AhHDiEmnDE79l | All the Time - Don Diablo Remix                       | Zara Larsson     | 70 | 1HoSmj2eLcsrR0vE9gThr4 | All the Time (Don Diablo Remix)                       | 5/7/2019   | Pop Remix | 37i9dQZF1DXcZDD7cfEKhW | pop | ⋯ |  1 | -3.432 | 0 | 0.0742 | 0.0794 | 2.33e-05 | 0.1100 | 0.613 | 124.008 | 176616 |\n",
       "| 4 | 75FpbthrwQmzHlBJLuGdC7 | Call You Mine - Keanu Silva Remix                     | The Chainsmokers | 60 | 1nqYsOef1yKKuGOVchbsk6 | Call You Mine - The Remixes                           | 19/7/2019  | Pop Remix | 37i9dQZF1DXcZDD7cfEKhW | pop | ⋯ |  7 | -3.778 | 1 | 0.1020 | 0.0287 | 9.43e-06 | 0.2040 | 0.277 | 121.956 | 169093 |\n",
       "| 5 | 1e8PAfcKUYoKkxPhrHqw4x | Someone You Loved - Future Humans Remix               | Lewis Capaldi    | 69 | 7m7vv9wlQ4i0LFuJiE2zsQ | Someone You Loved (Future Humans Remix)               | 5/3/2019   | Pop Remix | 37i9dQZF1DXcZDD7cfEKhW | pop | ⋯ |  1 | -4.672 | 1 | 0.0359 | 0.0803 | 0.00e+00 | 0.0833 | 0.725 | 123.976 | 189052 |\n",
       "| 6 | 7fvUMiyapMsRRxr07cU8Ef | Beautiful People (feat. Khalid) - Jack Wins Remix     | Ed Sheeran       | 67 | 2yiy9cd2QktrNvWC2EUi0k | Beautiful People (feat. Khalid) [Jack Wins Remix]     | 11/7/2019  | Pop Remix | 37i9dQZF1DXcZDD7cfEKhW | pop | ⋯ |  8 | -5.385 | 1 | 0.1270 | 0.0799 | 0.00e+00 | 0.1430 | 0.585 | 124.982 | 163049 |\n",
       "\n"
      ],
      "text/plain": [
       "  TrackId                TrackName                                            \n",
       "1 6f807x0ima9a1j3VPbc7VN I Don't Care (with Justin Bieber) - Loud Luxury Remix\n",
       "2 0r7CVbZTWZgbTCYdfa2P31 Memories - Dillon Francis Remix                      \n",
       "3 1z1Hg7Vb0AhHDiEmnDE79l All the Time - Don Diablo Remix                      \n",
       "4 75FpbthrwQmzHlBJLuGdC7 Call You Mine - Keanu Silva Remix                    \n",
       "5 1e8PAfcKUYoKkxPhrHqw4x Someone You Loved - Future Humans Remix              \n",
       "6 7fvUMiyapMsRRxr07cU8Ef Beautiful People (feat. Khalid) - Jack Wins Remix    \n",
       "  TrackArtist      TrackPopularity TrackAlbumId          \n",
       "1 Ed Sheeran       66              2oCs0DGTsRO98Gh5ZSl2Cx\n",
       "2 Maroon 5         67              63rPSO264uRjW1X5E6cWv6\n",
       "3 Zara Larsson     70              1HoSmj2eLcsrR0vE9gThr4\n",
       "4 The Chainsmokers 60              1nqYsOef1yKKuGOVchbsk6\n",
       "5 Lewis Capaldi    69              7m7vv9wlQ4i0LFuJiE2zsQ\n",
       "6 Ed Sheeran       67              2yiy9cd2QktrNvWC2EUi0k\n",
       "  TrackAlbumName                                        TrackAlbumReleaseDate\n",
       "1 I Don't Care (with Justin Bieber) [Loud Luxury Remix] 14/6/2019            \n",
       "2 Memories (Dillon Francis Remix)                       13/12/2019           \n",
       "3 All the Time (Don Diablo Remix)                       5/7/2019             \n",
       "4 Call You Mine - The Remixes                           19/7/2019            \n",
       "5 Someone You Loved (Future Humans Remix)               5/3/2019             \n",
       "6 Beautiful People (feat. Khalid) [Jack Wins Remix]     11/7/2019            \n",
       "  PlayListId PlaylistName           PlaylistGenre ⋯ Key Loudness Mode\n",
       "1 Pop Remix  37i9dQZF1DXcZDD7cfEKhW pop           ⋯  6  -2.634   1   \n",
       "2 Pop Remix  37i9dQZF1DXcZDD7cfEKhW pop           ⋯ 11  -4.969   1   \n",
       "3 Pop Remix  37i9dQZF1DXcZDD7cfEKhW pop           ⋯  1  -3.432   0   \n",
       "4 Pop Remix  37i9dQZF1DXcZDD7cfEKhW pop           ⋯  7  -3.778   1   \n",
       "5 Pop Remix  37i9dQZF1DXcZDD7cfEKhW pop           ⋯  1  -4.672   1   \n",
       "6 Pop Remix  37i9dQZF1DXcZDD7cfEKhW pop           ⋯  8  -5.385   1   \n",
       "  Speechiness Acousticness Instrumentalness Liveliness Valence Tempo  \n",
       "1 0.0583      0.1020       0.00e+00         0.0653     0.518   122.036\n",
       "2 0.0373      0.0724       4.21e-03         0.3570     0.693    99.972\n",
       "3 0.0742      0.0794       2.33e-05         0.1100     0.613   124.008\n",
       "4 0.1020      0.0287       9.43e-06         0.2040     0.277   121.956\n",
       "5 0.0359      0.0803       0.00e+00         0.0833     0.725   123.976\n",
       "6 0.1270      0.0799       0.00e+00         0.1430     0.585   124.982\n",
       "  Duration_ms\n",
       "1 194754     \n",
       "2 162600     \n",
       "3 176616     \n",
       "4 169093     \n",
       "5 189052     \n",
       "6 163049     "
      ]
     },
     "metadata": {},
     "output_type": "display_data"
    }
   ],
   "source": [
    "NoDupes = data[!duplicated(as.list(data))]\n",
    "FindDupes = data[duplicated(as.list(data))]\n",
    "head(FindDupes)\n",
    "head(NoDupes)"
   ]
  },
  {
   "cell_type": "markdown",
   "metadata": {},
   "source": [
    "#### Find Nulls"
   ]
  },
  {
   "cell_type": "code",
   "execution_count": 33,
   "metadata": {
    "vscode": {
     "languageId": "r"
    }
   },
   "outputs": [
    {
     "data": {
      "text/html": [
       "<dl>\n",
       "\t<dt>$TrackId</dt>\n",
       "\t\t<dd>0</dd>\n",
       "\t<dt>$TrackName</dt>\n",
       "\t\t<dd>5</dd>\n",
       "\t<dt>$TrackArtist</dt>\n",
       "\t\t<dd>5</dd>\n",
       "\t<dt>$TrackPopularity</dt>\n",
       "\t\t<dd>0</dd>\n",
       "\t<dt>$TrackAlbumId</dt>\n",
       "\t\t<dd>0</dd>\n",
       "\t<dt>$TrackAlbumName</dt>\n",
       "\t\t<dd>5</dd>\n",
       "\t<dt>$TrackAlbumReleaseDate</dt>\n",
       "\t\t<dd>0</dd>\n",
       "\t<dt>$PlayListId</dt>\n",
       "\t\t<dd>0</dd>\n",
       "\t<dt>$PlaylistName</dt>\n",
       "\t\t<dd>0</dd>\n",
       "\t<dt>$PlaylistGenre</dt>\n",
       "\t\t<dd>0</dd>\n",
       "\t<dt>$PlaylistSubGenre</dt>\n",
       "\t\t<dd>0</dd>\n",
       "\t<dt>$Danceability</dt>\n",
       "\t\t<dd>0</dd>\n",
       "\t<dt>$Energy</dt>\n",
       "\t\t<dd>0</dd>\n",
       "\t<dt>$Key</dt>\n",
       "\t\t<dd>0</dd>\n",
       "\t<dt>$Loudness</dt>\n",
       "\t\t<dd>0</dd>\n",
       "\t<dt>$Mode</dt>\n",
       "\t\t<dd>0</dd>\n",
       "\t<dt>$Speechiness</dt>\n",
       "\t\t<dd>0</dd>\n",
       "\t<dt>$Acousticness</dt>\n",
       "\t\t<dd>0</dd>\n",
       "\t<dt>$Instrumentalness</dt>\n",
       "\t\t<dd>0</dd>\n",
       "\t<dt>$Liveliness</dt>\n",
       "\t\t<dd>0</dd>\n",
       "\t<dt>$Valence</dt>\n",
       "\t\t<dd>0</dd>\n",
       "\t<dt>$Tempo</dt>\n",
       "\t\t<dd>0</dd>\n",
       "\t<dt>$Duration_ms</dt>\n",
       "\t\t<dd>0</dd>\n",
       "</dl>\n"
      ],
      "text/latex": [
       "\\begin{description}\n",
       "\\item[\\$TrackId] 0\n",
       "\\item[\\$TrackName] 5\n",
       "\\item[\\$TrackArtist] 5\n",
       "\\item[\\$TrackPopularity] 0\n",
       "\\item[\\$TrackAlbumId] 0\n",
       "\\item[\\$TrackAlbumName] 5\n",
       "\\item[\\$TrackAlbumReleaseDate] 0\n",
       "\\item[\\$PlayListId] 0\n",
       "\\item[\\$PlaylistName] 0\n",
       "\\item[\\$PlaylistGenre] 0\n",
       "\\item[\\$PlaylistSubGenre] 0\n",
       "\\item[\\$Danceability] 0\n",
       "\\item[\\$Energy] 0\n",
       "\\item[\\$Key] 0\n",
       "\\item[\\$Loudness] 0\n",
       "\\item[\\$Mode] 0\n",
       "\\item[\\$Speechiness] 0\n",
       "\\item[\\$Acousticness] 0\n",
       "\\item[\\$Instrumentalness] 0\n",
       "\\item[\\$Liveliness] 0\n",
       "\\item[\\$Valence] 0\n",
       "\\item[\\$Tempo] 0\n",
       "\\item[\\$Duration\\_ms] 0\n",
       "\\end{description}\n"
      ],
      "text/markdown": [
       "$TrackId\n",
       ":   0\n",
       "$TrackName\n",
       ":   5\n",
       "$TrackArtist\n",
       ":   5\n",
       "$TrackPopularity\n",
       ":   0\n",
       "$TrackAlbumId\n",
       ":   0\n",
       "$TrackAlbumName\n",
       ":   5\n",
       "$TrackAlbumReleaseDate\n",
       ":   0\n",
       "$PlayListId\n",
       ":   0\n",
       "$PlaylistName\n",
       ":   0\n",
       "$PlaylistGenre\n",
       ":   0\n",
       "$PlaylistSubGenre\n",
       ":   0\n",
       "$Danceability\n",
       ":   0\n",
       "$Energy\n",
       ":   0\n",
       "$Key\n",
       ":   0\n",
       "$Loudness\n",
       ":   0\n",
       "$Mode\n",
       ":   0\n",
       "$Speechiness\n",
       ":   0\n",
       "$Acousticness\n",
       ":   0\n",
       "$Instrumentalness\n",
       ":   0\n",
       "$Liveliness\n",
       ":   0\n",
       "$Valence\n",
       ":   0\n",
       "$Tempo\n",
       ":   0\n",
       "$Duration_ms\n",
       ":   0\n",
       "\n",
       "\n"
      ],
      "text/plain": [
       "$TrackId\n",
       "[1] 0\n",
       "\n",
       "$TrackName\n",
       "[1] 5\n",
       "\n",
       "$TrackArtist\n",
       "[1] 5\n",
       "\n",
       "$TrackPopularity\n",
       "[1] 0\n",
       "\n",
       "$TrackAlbumId\n",
       "[1] 0\n",
       "\n",
       "$TrackAlbumName\n",
       "[1] 5\n",
       "\n",
       "$TrackAlbumReleaseDate\n",
       "[1] 0\n",
       "\n",
       "$PlayListId\n",
       "[1] 0\n",
       "\n",
       "$PlaylistName\n",
       "[1] 0\n",
       "\n",
       "$PlaylistGenre\n",
       "[1] 0\n",
       "\n",
       "$PlaylistSubGenre\n",
       "[1] 0\n",
       "\n",
       "$Danceability\n",
       "[1] 0\n",
       "\n",
       "$Energy\n",
       "[1] 0\n",
       "\n",
       "$Key\n",
       "[1] 0\n",
       "\n",
       "$Loudness\n",
       "[1] 0\n",
       "\n",
       "$Mode\n",
       "[1] 0\n",
       "\n",
       "$Speechiness\n",
       "[1] 0\n",
       "\n",
       "$Acousticness\n",
       "[1] 0\n",
       "\n",
       "$Instrumentalness\n",
       "[1] 0\n",
       "\n",
       "$Liveliness\n",
       "[1] 0\n",
       "\n",
       "$Valence\n",
       "[1] 0\n",
       "\n",
       "$Tempo\n",
       "[1] 0\n",
       "\n",
       "$Duration_ms\n",
       "[1] 0\n"
      ]
     },
     "metadata": {},
     "output_type": "display_data"
    }
   ],
   "source": [
    "as.list(colSums(is.na(data)))"
   ]
  }
 ],
 "metadata": {
  "interpreter": {
   "hash": "1eb7fa6aec4d64469288ddad2e8437b0ef0076ca35bf6d0f4fc105e577cfb5ec"
  },
  "kernelspec": {
   "display_name": "R",
   "language": "R",
   "name": "ir"
  },
  "language_info": {
   "codemirror_mode": "r",
   "file_extension": ".r",
   "mimetype": "text/x-r-source",
   "name": "R",
   "pygments_lexer": "r",
   "version": "4.2.0"
  },
  "orig_nbformat": 4
 },
 "nbformat": 4,
 "nbformat_minor": 2
}
